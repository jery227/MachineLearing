{
 "cells": [
  {
   "cell_type": "markdown",
   "metadata": {},
   "source": [
    "### 逻辑回归"
   ]
  },
  {
   "cell_type": "code",
   "execution_count": 260,
   "metadata": {},
   "outputs": [],
   "source": [
    "import numpy as np\n",
    "import matplotlib.pyplot as plt\n",
    "\n",
    "import array"
   ]
  },
  {
   "cell_type": "code",
   "execution_count": 18,
   "metadata": {},
   "outputs": [],
   "source": [
    "\"\"\"\n",
    "读取文件\n",
    "\"\"\"\n",
    "fw = open(\"E:/MLiA_SourceCode/machinelearninginaction/Ch05/testSet.txt\")\n",
    "arr_data = []\n",
    "arr_labels = []\n",
    "for line in fw.readlines():\n",
    "    con = line.strip().split(\"\\t\")\n",
    "    arr_data.append([float(1),float(con[0]),float(con[1])])\n",
    "    arr_labels.append([float(con[2])])\n",
    "\n",
    "#特征值（矩阵）\n",
    "matrix_data = np.mat(arr_data)\n",
    "#标签值（矩阵）\n",
    "matrix_labels = np.mat(arr_labels)"
   ]
  },
  {
   "cell_type": "code",
   "execution_count": 19,
   "metadata": {},
   "outputs": [],
   "source": [
    "\"\"\"\n",
    "sigmoid函数的定义\n",
    "\"\"\"\n",
    "def sigmoid(inX):\n",
    "    return 1.0/(1 + np.exp(-inX))"
   ]
  },
  {
   "cell_type": "code",
   "execution_count": 435,
   "metadata": {},
   "outputs": [],
   "source": [
    "\"\"\"\n",
    "通过批量梯度下降的方法进行回归\n",
    "\"\"\"\n",
    "def batch_gradient(matrix_data,matrix_labels):\n",
    "    #得到特征值的样本数和特征值个数\n",
    "    m,n = matrix_data.shape\n",
    "    #定义一个学习率\n",
    "    alpha = 0.0001\n",
    "    #最大的循环次数\n",
    "    maxCycle = 50\n",
    "    costs = []\n",
    "    weights = np.ones((n,1))\n",
    "    for i in range(maxCycle):\n",
    "        h = sigmoid(matrix_data * weights)\n",
    "        cost = (h - matrix_labels)\n",
    "        costs.append(cost[0,0])\n",
    "        weights = weights - alpha * matrix_data.transpose() * cost     \n",
    "    return weights,costs"
   ]
  },
  {
   "cell_type": "code",
   "execution_count": 316,
   "metadata": {},
   "outputs": [],
   "source": [
    "\"\"\"\n",
    "通过随机梯度下降的方法进行回归\n",
    "\"\"\"\n",
    "def sgd(matrix_data,matrix_labels):\n",
    "    #得到特征值的样本数和特征值个数\n",
    "    m,n = matrix_data.shape\n",
    "    arr_data = matrix_data.tolist()\n",
    "    #定义一个学习率\n",
    "    alpha = 0.01\n",
    "    weights = np.ones(n)\n",
    "    for i in range(m):\n",
    "        h = sigmoid(sum(arr_data[i] * weights))\n",
    "        cost = (h - matrix_labels.tolist()[i] )\n",
    "        a = [alpha * arr_data[i][0] * cost,alpha * arr_data[i][1] * cost,alpha * arr_data[i][2] * cost]\n",
    "        weights = weights - a    \n",
    "    return weights"
   ]
  },
  {
   "cell_type": "code",
   "execution_count": null,
   "metadata": {},
   "outputs": [],
   "source": [
    "\"\"\"\n",
    "小批量随机下降\n",
    "\"\"\"\n",
    "def minibatch_gradient():\n",
    "    "
   ]
  },
  {
   "cell_type": "code",
   "execution_count": 436,
   "metadata": {},
   "outputs": [],
   "source": [
    "weights,costs = batch_gradient(matrix_data,matrix_labels)"
   ]
  },
  {
   "cell_type": "code",
   "execution_count": 317,
   "metadata": {},
   "outputs": [],
   "source": [
    "weights = sgd(matrix_data,matrix_labels)"
   ]
  },
  {
   "cell_type": "code",
   "execution_count": 318,
   "metadata": {},
   "outputs": [],
   "source": [
    "\"\"\"\n",
    "画出决策边界\n",
    "\"\"\"\n",
    "def plotBestFit(arr_data,arr_labels,weights):\n",
    "    x_cord1 = []\n",
    "    y_cord1 = []\n",
    "    x_cord2 = []\n",
    "    y_cord2 = []\n",
    "    for i in range(len(arr_data)):\n",
    "        if int(arr_labels[i][0]) == 1:\n",
    "            x_cord1.append(arr_data[i][1])\n",
    "            y_cord1.append(arr_data[i][2])\n",
    "        if int(arr_labels[i][0]) == 0:\n",
    "            x_cord2.append(arr_data[i][1])\n",
    "            y_cord2.append(arr_data[i][2])\n",
    "    fig = plt.figure()\n",
    "    ax = fig.add_subplot(111)\n",
    "    ax.scatter(x_cord1,y_cord1,c = \"r\")\n",
    "    ax.scatter(x_cord2,y_cord2,c = \"g\")\n",
    "    x = list(np.arange(-3.0,3.0,0.1))\n",
    "    y = []\n",
    "    for i in x:\n",
    "        a = weights[0,0]\n",
    "        b = weights[1,0]\n",
    "        c = weights[2,0]\n",
    "        d = (-a - b* i)/c\n",
    "        y.append(d) \n",
    "    ax.plot(x,y)\n",
    "    plt.show()\n",
    "\n",
    "    \n"
   ]
  },
  {
   "cell_type": "code",
   "execution_count": 439,
   "metadata": {},
   "outputs": [],
   "source": [
    "\"\"\"\n",
    "画出损失函数\n",
    "\"\"\"\n",
    "def plotCost(costs):\n",
    "    fig = plt.figure()\n",
    "    _x = list(np.arange(1,51))\n",
    "    plt.plot(_x,costs)\n",
    "    plt.show()"
   ]
  },
  {
   "cell_type": "code",
   "execution_count": 433,
   "metadata": {},
   "outputs": [
    {
     "data": {
      "image/png": "[encoded data removed]",
      "text/plain": [
       "<Figure size 432x288 with 1 Axes>"
      ]
     },
     "metadata": {},
     "output_type": "display_data"
    }
   ],
   "source": [
    "\"\"\"\n",
    "批量梯度下降 决策边界图形\n",
    "\"\"\"\n",
    "plotBestFit(arr_data,arr_labels,weights)"
   ]
  },
  {
   "cell_type": "code",
   "execution_count": 440,
   "metadata": {},
   "outputs": [
    {
     "data": {
      "image/png": "[encoded data removed]",
      "text/plain": [
       "<Figure size 432x288 with 1 Axes>"
      ]
     },
     "metadata": {},
     "output_type": "display_data"
    }
   ],
   "source": [
    "\"\"\"\n",
    "批量梯度下降 损失函数图形\n",
    "\"\"\"\n",
    "plotCost(costs)"
   ]
  },
  {
   "cell_type": "code",
   "execution_count": 319,
   "metadata": {},
   "outputs": [
    {
     "data": {
      "image/png": "[encoded data removed]",
      "text/plain": [
       "<Figure size 432x288 with 1 Axes>"
      ]
     },
     "metadata": {},
     "output_type": "display_data"
    }
   ],
   "source": [
    "\"\"\"\n",
    "随机梯度下降 决策边界图形\n",
    "\"\"\"\n",
    "plotBestFit(arr_data,arr_labels,weights)"
   ]
  },
  {
   "cell_type": "code",
   "execution_count": null,
   "metadata": {},
   "outputs": [],
   "source": []
  },
  {
   "cell_type": "code",
   "execution_count": null,
   "metadata": {},
   "outputs": [],
   "source": []
  }
 ],
 "metadata": {
  "celltoolbar": "Edit Metadata",
  "kernelspec": {
   "display_name": "Python 3",
   "language": "python",
   "name": "python3"
  },
  "language_info": {
   "codemirror_mode": {
    "name": "ipython",
    "version": 3
   },
   "file_extension": ".py",
   "mimetype": "text/x-python",
   "name": "python",
   "nbconvert_exporter": "python",
   "pygments_lexer": "ipython3",
   "version": "3.6.6"
  }
 },
 "nbformat": 4,
 "nbformat_minor": 2
}
