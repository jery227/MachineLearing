{
 "cells": [
  {
   "cell_type": "markdown",
   "metadata": {},
   "source": [
    "### 逻辑回归"
   ]
  },
  {
   "cell_type": "code",
   "execution_count": 260,
   "metadata": {},
   "outputs": [],
   "source": [
    "import numpy as np\n",
    "import matplotlib.pyplot as plt\n",
    "\n",
    "import array"
   ]
  },
  {
   "cell_type": "code",
   "execution_count": 18,
   "metadata": {},
   "outputs": [],
   "source": [
    "\"\"\"\n",
    "读取文件\n",
    "\"\"\"\n",
    "fw = open(\"E:/MLiA_SourceCode/machinelearninginaction/Ch05/testSet.txt\")\n",
    "arr_data = []\n",
    "arr_labels = []\n",
    "for line in fw.readlines():\n",
    "    con = line.strip().split(\"\\t\")\n",
    "    arr_data.append([float(1),float(con[0]),float(con[1])])\n",
    "    arr_labels.append([float(con[2])])\n",
    "\n",
    "#特征值（矩阵）\n",
    "matrix_data = np.mat(arr_data)\n",
    "#标签值（矩阵）\n",
    "matrix_labels = np.mat(arr_labels)"
   ]
  },
  {
   "cell_type": "code",
   "execution_count": 19,
   "metadata": {},
   "outputs": [],
   "source": [
    "\"\"\"\n",
    "sigmoid函数的定义\n",
    "\"\"\"\n",
    "def sigmoid(inX):\n",
    "    return 1.0/(1 + np.exp(-inX))"
   ]
  },
  {
   "cell_type": "code",
   "execution_count": 435,
   "metadata": {},
   "outputs": [],
   "source": [
    "\"\"\"\n",
    "通过批量梯度下降的方法进行回归\n",
    "\"\"\"\n",
    "def batch_gradient(matrix_data,matrix_labels):\n",
    "    #得到特征值的样本数和特征值个数\n",
    "    m,n = matrix_data.shape\n",
    "    #定义一个学习率\n",
    "    alpha = 0.0001\n",
    "    #最大的循环次数\n",
    "    maxCycle = 50\n",
    "    costs = []\n",
    "    weights = np.ones((n,1))\n",
    "    for i in range(maxCycle):\n",
    "        h = sigmoid(matrix_data * weights)\n",
    "        cost = (h - matrix_labels)\n",
    "        costs.append(cost[0,0])\n",
    "        weights = weights - alpha * matrix_data.transpose() * cost     \n",
    "    return weights,costs"
   ]
  },
  {
   "cell_type": "code",
   "execution_count": 475,
   "metadata": {},
   "outputs": [],
   "source": [
    "\"\"\"\n",
    "通过随机梯度下降的方法进行回归\n",
    "\"\"\"\n",
    "def sgd(matrix_data,matrix_labels):\n",
    "    #得到特征值的样本数和特征值个数\n",
    "    m,n = matrix_data.shape\n",
    "    arr_data = matrix_data.tolist()\n",
    "    #定义一个学习率\n",
    "    alpha = 0.01\n",
    "    weights = np.ones(n)\n",
    "    costs = []\n",
    "    for i in range(m):\n",
    "        h = sigmoid(sum(arr_data[i] * weights))\n",
    "        cost = (h - matrix_labels.tolist()[i] )\n",
    "        \n",
    "        a = [alpha * arr_data[i][0] * cost,alpha * arr_data[i][1] * cost,alpha * arr_data[i][2] * cost]\n",
    "        costs.append(a[0])\n",
    "        weights = weights - a    \n",
    "    return weights,costs"
   ]
  },
  {
   "cell_type": "code",
   "execution_count": null,
   "metadata": {},
   "outputs": [],
   "source": [
    "\"\"\"\n",
    "小批量随机下降\n",
    "\"\"\"\n",
    "def minibatch_gradient():\n",
    "    "
   ]
  },
  {
   "cell_type": "code",
   "execution_count": 447,
   "metadata": {},
   "outputs": [],
   "source": [
    "weights,costs = batch_gradient(matrix_data,matrix_labels)"
   ]
  },
  {
   "cell_type": "code",
   "execution_count": 476,
   "metadata": {},
   "outputs": [],
   "source": [
    "weights,costs = sgd(matrix_data,matrix_labels)"
   ]
  },
  {
   "cell_type": "code",
   "execution_count": 318,
   "metadata": {},
   "outputs": [],
   "source": [
    "\"\"\"\n",
    "画出决策边界\n",
    "\"\"\"\n",
    "def plotBestFit(arr_data,arr_labels,weights):\n",
    "    x_cord1 = []\n",
    "    y_cord1 = []\n",
    "    x_cord2 = []\n",
    "    y_cord2 = []\n",
    "    for i in range(len(arr_data)):\n",
    "        if int(arr_labels[i][0]) == 1:\n",
    "            x_cord1.append(arr_data[i][1])\n",
    "            y_cord1.append(arr_data[i][2])\n",
    "        if int(arr_labels[i][0]) == 0:\n",
    "            x_cord2.append(arr_data[i][1])\n",
    "            y_cord2.append(arr_data[i][2])\n",
    "    fig = plt.figure()\n",
    "    ax = fig.add_subplot(111)\n",
    "    ax.scatter(x_cord1,y_cord1,c = \"r\")\n",
    "    ax.scatter(x_cord2,y_cord2,c = \"g\")\n",
    "    x = list(np.arange(-3.0,3.0,0.1))\n",
    "    y = []\n",
    "    for i in x:\n",
    "        a = weights[0,0]\n",
    "        b = weights[1,0]\n",
    "        c = weights[2,0]\n",
    "        d = (-a - b* i)/c\n",
    "        y.append(d) \n",
    "    ax.plot(x,y)\n",
    "    plt.show()\n",
    "\n",
    "    \n"
   ]
  },
  {
   "cell_type": "code",
   "execution_count": 445,
   "metadata": {},
   "outputs": [],
   "source": [
    "\"\"\"\n",
    "画出损失函数\n",
    "\"\"\"\n",
    "def plotCost(costs):\n",
    "    fig = plt.figure()\n",
    "    _x = list(np.arange(1,51))\n",
    "    plt.plot(_x,costs)\n",
    "    plt.show()"
   ]
  },
  {
   "cell_type": "code",
   "execution_count": 477,
   "metadata": {},
   "outputs": [],
   "source": [
    "\"\"\"\n",
    "画出损失函数\n",
    "\"\"\"\n",
    "def plotCost2(costs):\n",
    "    fig = plt.figure()\n",
    "    _x = list(np.arange(1,101))\n",
    "    print(costs)\n",
    "    plt.plot(_x,costs)\n",
    "    plt.show()"
   ]
  },
  {
   "cell_type": "code",
   "execution_count": 465,
   "metadata": {},
   "outputs": [
    {
     "data": {
      "image/png": "[encoded data removed]",
      "text/plain": [
       "<Figure size 432x288 with 1 Axes>"
      ]
     },
     "metadata": {},
     "output_type": "display_data"
    }
   ],
   "source": [
    "\"\"\"\n",
    "批量梯度下降 决策边界图形\n",
    "\"\"\"\n",
    "plotBestFit(arr_data,arr_labels,weights)"
   ]
  },
  {
   "cell_type": "code",
   "execution_count": 478,
   "metadata": {},
   "outputs": [
    {
     "name": "stdout",
     "output_type": "stream",
     "text": [
      "[array([0.01]), array([-5.46996434e-04, -9.81604135e-03, -1.69709806e-08]), array([0.00945421, 0.00102029, 0.01      ]), array([0.00942014, 0.00021573, 0.01      ]), array([0.00938398, 0.00772171, 0.01      ]), array([-6.87288692e-04, -2.43535175e-03, -1.13371593e-10]), array([0.00931643, 0.0086688 , 0.01      ]), array([-7.74173366e-04, -9.98640634e-03, -5.12453167e-10]), array([0.00922881, 0.00826094, 0.01      ]), array([0.00915254, 0.00482399, 0.01      ]), array([-9.31982134e-04, -9.95414207e-04, -2.13615112e-09]), array([0.0090749 , 0.00970702, 0.01      ]), array([-1.05033899e-03, -5.31261811e-04, -1.44626476e-05]), array([0.00895493, 0.00012536, 0.01      ]), array([-1.11684838e-03, -8.00257516e-03, -1.13149560e-07]), array([-0.00111002, -0.00088819, -0.00041132]), array([-1.10616530e-03, -5.15136256e-03, -5.04899526e-08]), array([-1.09843244e-03, -5.23120448e-03, -4.79665739e-05]), array([-0.00109451, -0.00623348, -0.00293041]), array([-1.09318366e-03, -6.89574719e-04, -1.08596639e-07]), array([-1.08494181e-03, -6.03366302e-05, -1.63047576e-05]), array([-0.00107844, -0.00987316, -0.00751671]), array([0.00892027, 0.00186126, 0.01      ]), array([-0.00118913, -0.00706749, -0.00957472]), array([-1.19041107e-03, -9.95381767e-03, -7.16505647e-05]), array([0.00881152, 0.00956853, 0.01      ]), array([0.0086981 , 0.00143743, 0.01      ]), array([-0.00139695, -0.0099985 , -0.00933593]), array([-1.40412199e-03, -3.20689861e-03, -3.62448884e-05]), array([0.00860406, 0.00967298, 0.01      ]), array([-1.52502187e-03, -7.06554098e-03, -2.79087415e-05]), array([-1.51597146e-03, -2.16725679e-03, -4.90848108e-08]), array([0.00850314, 0.00945421, 0.01      ]), array([-0.00165258, -0.00950839, -0.0096134 ]), array([-1.65886460e-03, -6.92287157e-04, -1.52745622e-05]), array([0.00835748, 0.00645438, 0.00999996]), array([0.00822956, 0.00729362, 0.00999986]), array([0.00809629, 0.00021207, 0.0099997 ]), array([0.00798596, 0.00043284, 0.00999995]), array([0.00783253, 0.00083516, 0.00999958]), array([-0.00231903, -0.00710255, -0.0007118 ]), array([-2.30316052e-03, -1.06665037e-03, -8.38533001e-05]), array([0.00772994, 0.00219739, 0.00999689]), array([-0.0024185 , -0.0008849 , -0.00408427]), array([-0.00240654, -0.00157199, -0.00137395]), array([0.00761321, 0.00074654, 0.0099933 ]), array([-0.00253235, -0.0079979 , -0.0078198 ]), array([-0.00254121, -0.00386628, -0.00032103]), array([0.00749308, 0.00123773, 0.00998737]), array([0.00732636, 0.00730657, 0.00993789]), array([0.00714341, 0.00588474, 0.00949989]), array([0.00699684, 0.00339169, 0.00925122]), array([0.00683312, 0.00324942, 0.00758439]), array([0.0067037 , 0.0081649 , 0.00740308]), array([-0.00353068, -0.00073349, -0.00548691]), array([-0.00347015, -0.00458031, -0.00495754]), array([0.00659198, 0.00355883, 0.00610225]), array([-0.00357841, -0.00047077, -0.00553018]), array([0.0065075 , 0.00174808, 0.00587282]), array([-0.00366658, -0.00647355, -0.00544806]), array([-0.00362087, -0.00807514, -0.00508779]), array([-0.00358517, -0.00298926, -0.00493513]), array([0.00644324, 0.00496855, 0.00568246]), array([0.00629321, 0.00646757, 0.00416919]), array([0.00608839, 0.00634426, 0.00261586]), array([-0.00411084, -0.00774629, -0.00456083]), array([-0.00412355, -0.00021278, -0.00693348]), array([0.00597607, 0.00877007, 0.00341488]), array([0.00577474, 0.00659788, 0.00222214]), array([0.00558324, 0.00264783, 0.00185992]), array([0.00542816, 0.00523807, 0.00153383]), array([-0.00473522, -0.008347  , -0.00520306]), array([0.00526633, 0.00468902, 0.00084791]), array([-0.00492645, -0.00542001, -0.00630098]), array([0.00511944, 0.00646349, 0.00168037]), array([0.00497349, 0.00751445, 0.00202595]), array([-0.00514567, -0.00843845, -0.00498635]), array([-0.00515448, -0.00208264, -0.0060885 ]), array([-0.00509665, -0.00109139, -0.00708017]), array([-0.00499375, -0.00706219, -0.00627588]), array([0.00506272, 0.00167502, 0.00365658]), array([-0.00500754, -0.00756431, -0.00412473]), array([0.00495167, 0.00866678, 0.00217284]), array([-0.00521044, -0.00059961, -0.00783512]), array([-0.00504889, -0.00733692, -0.00523553]), array([-0.00502883, -0.00685526, -0.00479411]), array([-0.00504855, -0.0068593 , -0.00552772]), array([0.00500196, 0.00790884, 0.0039753 ]), array([-0.00518589, -0.00188917, -0.00624036]), array([-0.00507938, -0.00483376, -0.00500618]), array([-0.00506493, -0.00480962, -0.00493622]), array([0.0049398 , 0.0082625 , 0.00394295]), array([0.00474836, 0.00535768, 0.00283766]), array([-0.00538101, -0.00478975, -0.00529034]), array([-0.0053536 , -0.00613074, -0.00535101]), array([-0.00533308, -0.00385698, -0.00567955]), array([0.00472317, 0.00630671, 0.00291763]), array([-0.00542317, -0.0079477 , -0.00504283]), array([0.00456304, 0.00701732, 0.00238212]), array([0.00443058, 0.00542208, 0.00095698])]\n"
     ]
    },
    {
     "ename": "ValueError",
     "evalue": "setting an array element with a sequence.",
     "output_type": "error",
     "traceback": [
      "\u001b[1;31m---------------------------------------------------------------------------\u001b[0m",
      "\u001b[1;31mValueError\u001b[0m                                Traceback (most recent call last)",
      "\u001b[1;32m<ipython-input-478-4ac655a1c2a0>\u001b[0m in \u001b[0;36m<module>\u001b[1;34m()\u001b[0m\n\u001b[0;32m      2\u001b[0m \u001b[0m批量梯度下降\u001b[0m \u001b[0m损失函数图形\u001b[0m\u001b[1;33m\u001b[0m\u001b[0m\n\u001b[0;32m      3\u001b[0m \"\"\"\n\u001b[1;32m----> 4\u001b[1;33m \u001b[0mplotCost2\u001b[0m\u001b[1;33m(\u001b[0m\u001b[0mcosts\u001b[0m\u001b[1;33m)\u001b[0m\u001b[1;33m\u001b[0m\u001b[0m\n\u001b[0m",
      "\u001b[1;32m<ipython-input-477-71267c3c9c1e>\u001b[0m in \u001b[0;36mplotCost2\u001b[1;34m(costs)\u001b[0m\n\u001b[0;32m      6\u001b[0m     \u001b[0m_x\u001b[0m \u001b[1;33m=\u001b[0m \u001b[0mlist\u001b[0m\u001b[1;33m(\u001b[0m\u001b[0mnp\u001b[0m\u001b[1;33m.\u001b[0m\u001b[0marange\u001b[0m\u001b[1;33m(\u001b[0m\u001b[1;36m1\u001b[0m\u001b[1;33m,\u001b[0m\u001b[1;36m101\u001b[0m\u001b[1;33m)\u001b[0m\u001b[1;33m)\u001b[0m\u001b[1;33m\u001b[0m\u001b[0m\n\u001b[0;32m      7\u001b[0m     \u001b[0mprint\u001b[0m\u001b[1;33m(\u001b[0m\u001b[0mcosts\u001b[0m\u001b[1;33m)\u001b[0m\u001b[1;33m\u001b[0m\u001b[0m\n\u001b[1;32m----> 8\u001b[1;33m     \u001b[0mplt\u001b[0m\u001b[1;33m.\u001b[0m\u001b[0mplot\u001b[0m\u001b[1;33m(\u001b[0m\u001b[0m_x\u001b[0m\u001b[1;33m,\u001b[0m\u001b[0mcosts\u001b[0m\u001b[1;33m)\u001b[0m\u001b[1;33m\u001b[0m\u001b[0m\n\u001b[0m\u001b[0;32m      9\u001b[0m     \u001b[0mplt\u001b[0m\u001b[1;33m.\u001b[0m\u001b[0mshow\u001b[0m\u001b[1;33m(\u001b[0m\u001b[1;33m)\u001b[0m\u001b[1;33m\u001b[0m\u001b[0m\n",
      "\u001b[1;32mD:\\anaconda\\lib\\site-packages\\matplotlib\\pyplot.py\u001b[0m in \u001b[0;36mplot\u001b[1;34m(scalex, scaley, data, *args, **kwargs)\u001b[0m\n\u001b[0;32m   2811\u001b[0m     return gca().plot(\n\u001b[0;32m   2812\u001b[0m         *args, scalex=scalex, scaley=scaley, **({\"data\": data} if data\n\u001b[1;32m-> 2813\u001b[1;33m         is not None else {}), **kwargs)\n\u001b[0m\u001b[0;32m   2814\u001b[0m \u001b[1;33m\u001b[0m\u001b[0m\n\u001b[0;32m   2815\u001b[0m \u001b[1;33m\u001b[0m\u001b[0m\n",
      "\u001b[1;32mD:\\anaconda\\lib\\site-packages\\matplotlib\\__init__.py\u001b[0m in \u001b[0;36minner\u001b[1;34m(ax, data, *args, **kwargs)\u001b[0m\n\u001b[0;32m   1803\u001b[0m                         \u001b[1;34m\"the Matplotlib list!)\"\u001b[0m \u001b[1;33m%\u001b[0m \u001b[1;33m(\u001b[0m\u001b[0mlabel_namer\u001b[0m\u001b[1;33m,\u001b[0m \u001b[0mfunc\u001b[0m\u001b[1;33m.\u001b[0m\u001b[0m__name__\u001b[0m\u001b[1;33m)\u001b[0m\u001b[1;33m,\u001b[0m\u001b[1;33m\u001b[0m\u001b[0m\n\u001b[0;32m   1804\u001b[0m                         RuntimeWarning, stacklevel=2)\n\u001b[1;32m-> 1805\u001b[1;33m             \u001b[1;32mreturn\u001b[0m \u001b[0mfunc\u001b[0m\u001b[1;33m(\u001b[0m\u001b[0max\u001b[0m\u001b[1;33m,\u001b[0m \u001b[1;33m*\u001b[0m\u001b[0margs\u001b[0m\u001b[1;33m,\u001b[0m \u001b[1;33m**\u001b[0m\u001b[0mkwargs\u001b[0m\u001b[1;33m)\u001b[0m\u001b[1;33m\u001b[0m\u001b[0m\n\u001b[0m\u001b[0;32m   1806\u001b[0m \u001b[1;33m\u001b[0m\u001b[0m\n\u001b[0;32m   1807\u001b[0m         inner.__doc__ = _add_data_doc(inner.__doc__,\n",
      "\u001b[1;32mD:\\anaconda\\lib\\site-packages\\matplotlib\\axes\\_axes.py\u001b[0m in \u001b[0;36mplot\u001b[1;34m(self, scalex, scaley, *args, **kwargs)\u001b[0m\n\u001b[0;32m   1602\u001b[0m \u001b[1;33m\u001b[0m\u001b[0m\n\u001b[0;32m   1603\u001b[0m         \u001b[1;32mfor\u001b[0m \u001b[0mline\u001b[0m \u001b[1;32min\u001b[0m \u001b[0mself\u001b[0m\u001b[1;33m.\u001b[0m\u001b[0m_get_lines\u001b[0m\u001b[1;33m(\u001b[0m\u001b[1;33m*\u001b[0m\u001b[0margs\u001b[0m\u001b[1;33m,\u001b[0m \u001b[1;33m**\u001b[0m\u001b[0mkwargs\u001b[0m\u001b[1;33m)\u001b[0m\u001b[1;33m:\u001b[0m\u001b[1;33m\u001b[0m\u001b[0m\n\u001b[1;32m-> 1604\u001b[1;33m             \u001b[0mself\u001b[0m\u001b[1;33m.\u001b[0m\u001b[0madd_line\u001b[0m\u001b[1;33m(\u001b[0m\u001b[0mline\u001b[0m\u001b[1;33m)\u001b[0m\u001b[1;33m\u001b[0m\u001b[0m\n\u001b[0m\u001b[0;32m   1605\u001b[0m             \u001b[0mlines\u001b[0m\u001b[1;33m.\u001b[0m\u001b[0mappend\u001b[0m\u001b[1;33m(\u001b[0m\u001b[0mline\u001b[0m\u001b[1;33m)\u001b[0m\u001b[1;33m\u001b[0m\u001b[0m\n\u001b[0;32m   1606\u001b[0m \u001b[1;33m\u001b[0m\u001b[0m\n",
      "\u001b[1;32mD:\\anaconda\\lib\\site-packages\\matplotlib\\axes\\_base.py\u001b[0m in \u001b[0;36madd_line\u001b[1;34m(self, line)\u001b[0m\n\u001b[0;32m   1889\u001b[0m             \u001b[0mline\u001b[0m\u001b[1;33m.\u001b[0m\u001b[0mset_clip_path\u001b[0m\u001b[1;33m(\u001b[0m\u001b[0mself\u001b[0m\u001b[1;33m.\u001b[0m\u001b[0mpatch\u001b[0m\u001b[1;33m)\u001b[0m\u001b[1;33m\u001b[0m\u001b[0m\n\u001b[0;32m   1890\u001b[0m \u001b[1;33m\u001b[0m\u001b[0m\n\u001b[1;32m-> 1891\u001b[1;33m         \u001b[0mself\u001b[0m\u001b[1;33m.\u001b[0m\u001b[0m_update_line_limits\u001b[0m\u001b[1;33m(\u001b[0m\u001b[0mline\u001b[0m\u001b[1;33m)\u001b[0m\u001b[1;33m\u001b[0m\u001b[0m\n\u001b[0m\u001b[0;32m   1892\u001b[0m         \u001b[1;32mif\u001b[0m \u001b[1;32mnot\u001b[0m \u001b[0mline\u001b[0m\u001b[1;33m.\u001b[0m\u001b[0mget_label\u001b[0m\u001b[1;33m(\u001b[0m\u001b[1;33m)\u001b[0m\u001b[1;33m:\u001b[0m\u001b[1;33m\u001b[0m\u001b[0m\n\u001b[0;32m   1893\u001b[0m             \u001b[0mline\u001b[0m\u001b[1;33m.\u001b[0m\u001b[0mset_label\u001b[0m\u001b[1;33m(\u001b[0m\u001b[1;34m'_line%d'\u001b[0m \u001b[1;33m%\u001b[0m \u001b[0mlen\u001b[0m\u001b[1;33m(\u001b[0m\u001b[0mself\u001b[0m\u001b[1;33m.\u001b[0m\u001b[0mlines\u001b[0m\u001b[1;33m)\u001b[0m\u001b[1;33m)\u001b[0m\u001b[1;33m\u001b[0m\u001b[0m\n",
      "\u001b[1;32mD:\\anaconda\\lib\\site-packages\\matplotlib\\axes\\_base.py\u001b[0m in \u001b[0;36m_update_line_limits\u001b[1;34m(self, line)\u001b[0m\n\u001b[0;32m   1911\u001b[0m         \u001b[0mFigures\u001b[0m \u001b[0mout\u001b[0m \u001b[0mthe\u001b[0m \u001b[0mdata\u001b[0m \u001b[0mlimit\u001b[0m \u001b[0mof\u001b[0m \u001b[0mthe\u001b[0m \u001b[0mgiven\u001b[0m \u001b[0mline\u001b[0m\u001b[1;33m,\u001b[0m \u001b[0mupdating\u001b[0m \u001b[0mself\u001b[0m\u001b[1;33m.\u001b[0m\u001b[0mdataLim\u001b[0m\u001b[1;33m.\u001b[0m\u001b[1;33m\u001b[0m\u001b[0m\n\u001b[0;32m   1912\u001b[0m         \"\"\"\n\u001b[1;32m-> 1913\u001b[1;33m         \u001b[0mpath\u001b[0m \u001b[1;33m=\u001b[0m \u001b[0mline\u001b[0m\u001b[1;33m.\u001b[0m\u001b[0mget_path\u001b[0m\u001b[1;33m(\u001b[0m\u001b[1;33m)\u001b[0m\u001b[1;33m\u001b[0m\u001b[0m\n\u001b[0m\u001b[0;32m   1914\u001b[0m         \u001b[1;32mif\u001b[0m \u001b[0mpath\u001b[0m\u001b[1;33m.\u001b[0m\u001b[0mvertices\u001b[0m\u001b[1;33m.\u001b[0m\u001b[0msize\u001b[0m \u001b[1;33m==\u001b[0m \u001b[1;36m0\u001b[0m\u001b[1;33m:\u001b[0m\u001b[1;33m\u001b[0m\u001b[0m\n\u001b[0;32m   1915\u001b[0m             \u001b[1;32mreturn\u001b[0m\u001b[1;33m\u001b[0m\u001b[0m\n",
      "\u001b[1;32mD:\\anaconda\\lib\\site-packages\\matplotlib\\lines.py\u001b[0m in \u001b[0;36mget_path\u001b[1;34m(self)\u001b[0m\n\u001b[0;32m    943\u001b[0m         \"\"\"\n\u001b[0;32m    944\u001b[0m         \u001b[1;32mif\u001b[0m \u001b[0mself\u001b[0m\u001b[1;33m.\u001b[0m\u001b[0m_invalidy\u001b[0m \u001b[1;32mor\u001b[0m \u001b[0mself\u001b[0m\u001b[1;33m.\u001b[0m\u001b[0m_invalidx\u001b[0m\u001b[1;33m:\u001b[0m\u001b[1;33m\u001b[0m\u001b[0m\n\u001b[1;32m--> 945\u001b[1;33m             \u001b[0mself\u001b[0m\u001b[1;33m.\u001b[0m\u001b[0mrecache\u001b[0m\u001b[1;33m(\u001b[0m\u001b[1;33m)\u001b[0m\u001b[1;33m\u001b[0m\u001b[0m\n\u001b[0m\u001b[0;32m    946\u001b[0m         \u001b[1;32mreturn\u001b[0m \u001b[0mself\u001b[0m\u001b[1;33m.\u001b[0m\u001b[0m_path\u001b[0m\u001b[1;33m\u001b[0m\u001b[0m\n\u001b[0;32m    947\u001b[0m \u001b[1;33m\u001b[0m\u001b[0m\n",
      "\u001b[1;32mD:\\anaconda\\lib\\site-packages\\matplotlib\\lines.py\u001b[0m in \u001b[0;36mrecache\u001b[1;34m(self, always)\u001b[0m\n\u001b[0;32m    643\u001b[0m         \u001b[1;32mif\u001b[0m \u001b[0malways\u001b[0m \u001b[1;32mor\u001b[0m \u001b[0mself\u001b[0m\u001b[1;33m.\u001b[0m\u001b[0m_invalidy\u001b[0m\u001b[1;33m:\u001b[0m\u001b[1;33m\u001b[0m\u001b[0m\n\u001b[0;32m    644\u001b[0m             \u001b[0myconv\u001b[0m \u001b[1;33m=\u001b[0m \u001b[0mself\u001b[0m\u001b[1;33m.\u001b[0m\u001b[0mconvert_yunits\u001b[0m\u001b[1;33m(\u001b[0m\u001b[0mself\u001b[0m\u001b[1;33m.\u001b[0m\u001b[0m_yorig\u001b[0m\u001b[1;33m)\u001b[0m\u001b[1;33m\u001b[0m\u001b[0m\n\u001b[1;32m--> 645\u001b[1;33m             \u001b[0my\u001b[0m \u001b[1;33m=\u001b[0m \u001b[0m_to_unmasked_float_array\u001b[0m\u001b[1;33m(\u001b[0m\u001b[0myconv\u001b[0m\u001b[1;33m)\u001b[0m\u001b[1;33m.\u001b[0m\u001b[0mravel\u001b[0m\u001b[1;33m(\u001b[0m\u001b[1;33m)\u001b[0m\u001b[1;33m\u001b[0m\u001b[0m\n\u001b[0m\u001b[0;32m    646\u001b[0m         \u001b[1;32melse\u001b[0m\u001b[1;33m:\u001b[0m\u001b[1;33m\u001b[0m\u001b[0m\n\u001b[0;32m    647\u001b[0m             \u001b[0my\u001b[0m \u001b[1;33m=\u001b[0m \u001b[0mself\u001b[0m\u001b[1;33m.\u001b[0m\u001b[0m_y\u001b[0m\u001b[1;33m\u001b[0m\u001b[0m\n",
      "\u001b[1;32mD:\\anaconda\\lib\\site-packages\\matplotlib\\cbook\\__init__.py\u001b[0m in \u001b[0;36m_to_unmasked_float_array\u001b[1;34m(x)\u001b[0m\n\u001b[0;32m   1363\u001b[0m         \u001b[1;32mreturn\u001b[0m \u001b[0mnp\u001b[0m\u001b[1;33m.\u001b[0m\u001b[0mma\u001b[0m\u001b[1;33m.\u001b[0m\u001b[0masarray\u001b[0m\u001b[1;33m(\u001b[0m\u001b[0mx\u001b[0m\u001b[1;33m,\u001b[0m \u001b[0mfloat\u001b[0m\u001b[1;33m)\u001b[0m\u001b[1;33m.\u001b[0m\u001b[0mfilled\u001b[0m\u001b[1;33m(\u001b[0m\u001b[0mnp\u001b[0m\u001b[1;33m.\u001b[0m\u001b[0mnan\u001b[0m\u001b[1;33m)\u001b[0m\u001b[1;33m\u001b[0m\u001b[0m\n\u001b[0;32m   1364\u001b[0m     \u001b[1;32melse\u001b[0m\u001b[1;33m:\u001b[0m\u001b[1;33m\u001b[0m\u001b[0m\n\u001b[1;32m-> 1365\u001b[1;33m         \u001b[1;32mreturn\u001b[0m \u001b[0mnp\u001b[0m\u001b[1;33m.\u001b[0m\u001b[0masarray\u001b[0m\u001b[1;33m(\u001b[0m\u001b[0mx\u001b[0m\u001b[1;33m,\u001b[0m \u001b[0mfloat\u001b[0m\u001b[1;33m)\u001b[0m\u001b[1;33m\u001b[0m\u001b[0m\n\u001b[0m\u001b[0;32m   1366\u001b[0m \u001b[1;33m\u001b[0m\u001b[0m\n\u001b[0;32m   1367\u001b[0m \u001b[1;33m\u001b[0m\u001b[0m\n",
      "\u001b[1;32mD:\\anaconda\\lib\\site-packages\\numpy\\core\\numeric.py\u001b[0m in \u001b[0;36masarray\u001b[1;34m(a, dtype, order)\u001b[0m\n\u001b[0;32m    499\u001b[0m \u001b[1;33m\u001b[0m\u001b[0m\n\u001b[0;32m    500\u001b[0m     \"\"\"\n\u001b[1;32m--> 501\u001b[1;33m     \u001b[1;32mreturn\u001b[0m \u001b[0marray\u001b[0m\u001b[1;33m(\u001b[0m\u001b[0ma\u001b[0m\u001b[1;33m,\u001b[0m \u001b[0mdtype\u001b[0m\u001b[1;33m,\u001b[0m \u001b[0mcopy\u001b[0m\u001b[1;33m=\u001b[0m\u001b[1;32mFalse\u001b[0m\u001b[1;33m,\u001b[0m \u001b[0morder\u001b[0m\u001b[1;33m=\u001b[0m\u001b[0morder\u001b[0m\u001b[1;33m)\u001b[0m\u001b[1;33m\u001b[0m\u001b[0m\n\u001b[0m\u001b[0;32m    502\u001b[0m \u001b[1;33m\u001b[0m\u001b[0m\n\u001b[0;32m    503\u001b[0m \u001b[1;33m\u001b[0m\u001b[0m\n",
      "\u001b[1;31mValueError\u001b[0m: setting an array element with a sequence."
     ]
    },
    {
     "data": {
      "image/png": "[encoded data removed]",
      "text/plain": [
       "<Figure size 432x288 with 1 Axes>"
      ]
     },
     "metadata": {},
     "output_type": "display_data"
    }
   ],
   "source": [
    "\"\"\"\n",
    "批量梯度下降 损失函数图形\n",
    "\"\"\"\n",
    "plotCost2(costs)"
   ]
  },
  {
   "cell_type": "code",
   "execution_count": 319,
   "metadata": {},
   "outputs": [
    {
     "data": {
      "image/png": "[encoded data removed]",
      "text/plain": [
       "<Figure size 432x288 with 1 Axes>"
      ]
     },
     "metadata": {},
     "output_type": "display_data"
    }
   ],
   "source": [
    "\"\"\"\n",
    "随机梯度下降 决策边界图形\n",
    "\"\"\"\n",
    "plotBestFit(arr_data,arr_labels,weights)"
   ]
  },
  {
   "cell_type": "code",
   "execution_count": null,
   "metadata": {},
   "outputs": [],
   "source": []
  },
  {
   "cell_type": "code",
   "execution_count": null,
   "metadata": {},
   "outputs": [],
   "source": []
  }
 ],
 "metadata": {
  "celltoolbar": "Edit Metadata",
  "kernelspec": {
   "display_name": "Python 3",
   "language": "python",
   "name": "python3"
  },
  "language_info": {
   "codemirror_mode": {
    "name": "ipython",
    "version": 3
   },
   "file_extension": ".py",
   "mimetype": "text/x-python",
   "name": "python",
   "nbconvert_exporter": "python",
   "pygments_lexer": "ipython3",
   "version": "3.6.6"
  }
 },
 "nbformat": 4,
 "nbformat_minor": 2
}
